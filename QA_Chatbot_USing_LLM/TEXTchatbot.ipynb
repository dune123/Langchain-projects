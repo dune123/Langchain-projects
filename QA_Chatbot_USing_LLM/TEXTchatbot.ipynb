{
 "cells": [
  {
   "cell_type": "code",
   "execution_count": 6,
   "metadata": {},
   "outputs": [],
   "source": [
    "from langchain import HuggingFaceHub\n",
    "from langchain import PromptTemplate,LLMChain\n",
    "from langchain.document_loaders import TextLoader\n",
    "from langchain.text_splitter import CharacterTextSplitter,RecursiveCharacterTextSplitter\n",
    "from langchain.vectorstores import Chroma\n",
    "from langchain.embeddings import HuggingFaceEmbeddings"
   ]
  },
  {
   "cell_type": "code",
   "execution_count": 7,
   "metadata": {},
   "outputs": [],
   "source": [
    "MODEL_PATH=\"./models/llama-7b.ggmlv3.q4_K_M.bin\"\n",
    "\n",
    "import os\n",
    "os.environ[\"huggingfacehub_api_token\"]=\"sk-HBcNcxp8X8oAKhSGT3BlbkFJ9sHkCuOITYjONfcc0Y3p\""
   ]
  },
  {
   "cell_type": "code",
   "execution_count": 8,
   "metadata": {},
   "outputs": [
    {
     "name": "stderr",
     "output_type": "stream",
     "text": [
      "/Users/sameerraj/Desktop/Machine_learning_python/Langchain-projects/venv/lib/python3.11/site-packages/tqdm/auto.py:21: TqdmWarning: IProgress not found. Please update jupyter and ipywidgets. See https://ipywidgets.readthedocs.io/en/stable/user_install.html\n",
      "  from .autonotebook import tqdm as notebook_tqdm\n",
      "/Users/sameerraj/Desktop/Machine_learning_python/Langchain-projects/venv/lib/python3.11/site-packages/huggingface_hub/utils/_deprecation.py:127: FutureWarning: '__init__' (from 'huggingface_hub.inference_api') is deprecated and will be removed from version '0.19.0'. `InferenceApi` client is deprecated in favor of the more feature-complete `InferenceClient`. Check out this guide to learn how to convert your script to use it: https://huggingface.co/docs/huggingface_hub/guides/inference#legacy-inferenceapi-client.\n",
      "  warnings.warn(warning_message, FutureWarning)\n"
     ]
    }
   ],
   "source": [
    "repo_id=\"tiiuae/falcon-7b-instruct\"\n",
    "\n",
    "llm=HuggingFaceHub(huggingfacehub_api_token=os.environ[\"huggingfacehub_api_token\"],repo_id=repo_id,model_kwargs={\"temperature\":0.6, \"max_new_tokens\":500})"
   ]
  },
  {
   "cell_type": "code",
   "execution_count": 10,
   "metadata": {},
   "outputs": [],
   "source": [
    "loader=TextLoader(\"sample.txt\")\n",
    "docs=loader.load()"
   ]
  },
  {
   "cell_type": "code",
   "execution_count": 11,
   "metadata": {},
   "outputs": [
    {
     "data": {
      "text/plain": [
       "[Document(page_content='Eighteen months after the destructive battle in Metropolis (Man of Steel), Superman has become a controversial figure', metadata={'source': 'sample.txt'}),\n",
       " Document(page_content='. Billionaire Bruce Wayne, who has covertly operated in Gotham City as vigilante Batman for nearly two decades, blames Superman for the mass casualties that resulted from his fight with General Zod', metadata={'source': 'sample.txt'}),\n",
       " Document(page_content='. Among the casualties were many people working in Wayne Enterprises headquarters when the tower collapsed. Superman, in his public identity as Daily Planet journalist Clark Kent, sees Batman as dangerous and seeks to expose him', metadata={'source': 'sample.txt'}),\n",
       " Document(page_content=\".\\n\\nLexCorp's mogul Lex Luthor also sees Superman as a threat and convinces Senator June Finch to help him recover kryptonite from Zod's failed terraforming attempt in the Indian Ocean\", metadata={'source': 'sample.txt'}),\n",
       " Document(page_content=\". Finch later stonewalls Luthor's efforts to use Zod's DNA and the Kryptonian scout ship recovered from the battle to create a biological weapon\", metadata={'source': 'sample.txt'}),\n",
       " Document(page_content='.\\n\\nWayne successfully infiltrates a fundraiser promoted by Luthor to retrieve data from LexCorp\\'s mainframe, but his flash drive is stolen by mysterious antiques dealer Diana Prince, who learns that Luthor has files on several \"metahumans\"; beings with superhuman abilities; herself, as well as a man with superhuman speed (Flash), a cybernetic body (Cyborg), and a man that lives underwater (Aquaman)', metadata={'source': 'sample.txt'}),\n",
       " Document(page_content='. Wayne later receives the drive back from her after she copies it. While decrypting the drive, he has a vision of a dystopian future where he sees a gigantic omega symbol etched into a desert landscape', metadata={'source': 'sample.txt'}),\n",
       " Document(page_content=\". Armed with a pistol, he leads a force of rebels against Superman. Batman is betrayed by his own men, captured and held prisoner by Superman's army. Superman approaches him, rips off his cowl and tells him he took everything from him\", metadata={'source': 'sample.txt'}),\n",
       " Document(page_content=\". Superman then rips out Batman's heart.\\n\\nWayne is snapped out of the vision by a mysterious time traveler, who warns him that Lois Lane has a crucial role to an impending threat, and that he must find the others\", metadata={'source': 'sample.txt'}),\n",
       " Document(page_content='. Before he vanishes, the time traveler yells that he\\'s \"too soon\" with his message. He later learns not only of Luthor\\'s experiments with kryptonite, but also his ongoing investigation about metahumans including Prince herself, who is an immortal warrior', metadata={'source': 'sample.txt'}),\n",
       " Document(page_content=\". Batman attempts to retrieve Luthor's kryptonite in the Batmobile, but is intercepted by Superman, who orders him to cease his activities. Later, Finch summons Superman to a Congressional hearing at the U.S. Capitol to debate the validity of his actions\", metadata={'source': 'sample.txt'}),\n",
       " Document(page_content=\". Using a man who was paralyzed by Superman's battle with Zod in Metropolis, Luthor masterminds a bombing that kills dozens of people by hiding the bomb in the man's wheelchair. Everyone in the chamber is killed, including Finch\", metadata={'source': 'sample.txt'}),\n",
       " Document(page_content='. Despite being seen carrying the injured out of the blast-zone, the public blames the bombing on Superman, who goes into self-imposed exile', metadata={'source': 'sample.txt'}),\n",
       " Document(page_content='.\\n\\nBatman retrieves the kryptonite and prepares to launch a strike against Superman; building a powerful exoskeleton and kryptonite-powered arsenal', metadata={'source': 'sample.txt'}),\n",
       " Document(page_content=\". With Batman now having the kryptonite, Luthor activates the Genesis Chamber aboard the scout ship and splices his own DNA and Zod's\", metadata={'source': 'sample.txt'}),\n",
       " Document(page_content=\". Luthor endangers Lois to lure Superman to LexCorp Tower, where he reveals that he has been aware of Superman's secrets for some time\", metadata={'source': 'sample.txt'}),\n",
       " Document(page_content='. Luthor blackmails Superman into confronting Batman by holding his adoptive mother, Martha Kent, hostage at an undisclosed location, anticipating that Batman would kill Superman with his kryptonite', metadata={'source': 'sample.txt'}),\n",
       " Document(page_content=\".\\n\\nSuperman tries to reason with Batman, revealing that he knows his secrets, but leads to a fight in which Batman nearly kills Superman with a spear he'd fashioned from the kryptonite\", metadata={'source': 'sample.txt'}),\n",
       " Document(page_content='. Superman pleads for Batman to \"save Martha\", which was also the latter\\'s late mother\\'s name, prompting him to come to his senses and realize Superman is not a threat', metadata={'source': 'sample.txt'}),\n",
       " Document(page_content=\". Upon learning of Luthor's plan, Batman leaves to rescue Martha while Superman confronts Luthor, who unleashes a monstrous artificially-bred creature (Doomsday) made with Kryptonian technology on the crashed ship\", metadata={'source': 'sample.txt'}),\n",
       " Document(page_content=\".\\n\\nSuperman and Batman join forces to fight him and are aided by an arriving Prince in her Amazonian attire, but are outmatched due to the creature's ability to absorb and redirect energy, becoming indestructible in the process\", metadata={'source': 'sample.txt'}),\n",
       " Document(page_content='. Realizing that their shared Kryptonian DNA results in shared vulnerabilities, Superman retrieves the kryptonite spear and impales the creature with it, while the creature stabs Superman with his bony spike, seemingly killing him', metadata={'source': 'sample.txt'}),\n",
       " Document(page_content=\".\\n\\nLuthor is arrested after Lane exposes his numerous crimes; when he is visited by Batman in prison, he gloats that Superman's death has made the world vulnerable to powerful threats, of which he was taught about while manipulating the Kryptonian ship's technology\", metadata={'source': 'sample.txt'}),\n",
       " Document(page_content='. Batman threatens Luthor, and promises that he will always be watching him. A memorial is held for Superman in Metropolis, and as Clark is also declared dead. Wayne, Lane, Martha, and Prince attend a private funeral for Clark in Smallville', metadata={'source': 'sample.txt'}),\n",
       " Document(page_content=\". Martha passes an envelope to Lane, which contains an engagement ring from Clark. After the funeral, Wayne reveals to Prince that he plans to form a team (the Justice League) from Luthor's file subjects to protect the world in Superman's absence\", metadata={'source': 'sample.txt'}),\n",
       " Document(page_content=\". Later, a faint heartbeat begins echoing from Clark's grave and the dirt around it begins to levitate.\", metadata={'source': 'sample.txt'})]"
      ]
     },
     "execution_count": 11,
     "metadata": {},
     "output_type": "execute_result"
    }
   ],
   "source": [
    "text_splitter=RecursiveCharacterTextSplitter(\n",
    "    chunk_size=256,chunk_overlap=0,separators=[\".\"]\n",
    ")\n",
    "texts=text_splitter.split_documents(docs)\n",
    "texts"
   ]
  },
  {
   "cell_type": "code",
   "execution_count": null,
   "metadata": {},
   "outputs": [],
   "source": []
  },
  {
   "cell_type": "markdown",
   "metadata": {},
   "source": []
  }
 ],
 "metadata": {
  "kernelspec": {
   "display_name": "venv",
   "language": "python",
   "name": "python3"
  },
  "language_info": {
   "codemirror_mode": {
    "name": "ipython",
    "version": 3
   },
   "file_extension": ".py",
   "mimetype": "text/x-python",
   "name": "python",
   "nbconvert_exporter": "python",
   "pygments_lexer": "ipython3",
   "version": "3.11.4"
  }
 },
 "nbformat": 4,
 "nbformat_minor": 2
}
